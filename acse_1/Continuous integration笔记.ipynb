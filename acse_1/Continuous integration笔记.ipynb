{
 "cells": [
  {
   "cell_type": "markdown",
   "metadata": {},
   "source": [
    "# Continuous integration笔记"
   ]
  },
  {
   "cell_type": "markdown",
   "metadata": {},
   "source": [
    "## 对于“pip install -e .”的理解"
   ]
  },
  {
   "cell_type": "markdown",
   "metadata": {},
   "source": [
    "该命令出自lecture07：http://localhost:8888/notebooks/Learn/ACSE_1/ACSE-1/lectures/Lecture07/lecture.ipynb\n",
    "\n",
    "群内大佬对于该命令的解释：\n",
    "\n",
    "“-e”参数的意思是用本地的目录作为python库中的包，后面的“.”是指当前目录，所以这条命令是要运行在CI文件夹目录下，会扫描该文件夹下的包并导入你当前的python环境中（即导入到当前python安装目录中的site-packages文件夹里）。为什么要先激活CI的python环境：因为每个python环境都有一个独立的包目录(site-packages), 不激活该python环境你用的就是其他python环境，那么pip install就会安装在那个python环境的包目录下，但是你切到CI环境还是没这个包的，就会用不了，即显示没这个包（这里想导入的是simple-functions包）。"
   ]
  },
  {
   "cell_type": "markdown",
   "metadata": {},
   "source": [
    "关于CI，剩下的看assessment 3就行了。"
   ]
  }
 ],
 "metadata": {
  "kernelspec": {
   "display_name": "Python 3",
   "language": "python",
   "name": "python3"
  },
  "language_info": {
   "codemirror_mode": {
    "name": "ipython",
    "version": 3
   },
   "file_extension": ".py",
   "mimetype": "text/x-python",
   "name": "python",
   "nbconvert_exporter": "python",
   "pygments_lexer": "ipython3",
   "version": "3.8.3"
  }
 },
 "nbformat": 4,
 "nbformat_minor": 4
}
