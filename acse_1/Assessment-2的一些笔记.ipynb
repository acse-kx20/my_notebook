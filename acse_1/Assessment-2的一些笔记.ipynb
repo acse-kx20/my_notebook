{
 "cells": [
  {
   "cell_type": "markdown",
   "metadata": {},
   "source": [
    "# Assessment-2的一些笔记"
   ]
  },
  {
   "cell_type": "markdown",
   "metadata": {},
   "source": [
    "Assessment-2的Github：https://github.com/acse-2020/acse-1-assessment-2-acse-kx20"
   ]
  },
  {
   "cell_type": "markdown",
   "metadata": {},
   "source": [
    "## 一、如何运行process.py中的doctest"
   ]
  },
  {
   "cell_type": "markdown",
   "metadata": {},
   "source": [
    "在命令行输入：python -m pytest --doctest-modules process.py\n",
    "\n",
    "关于doctest在lecture04有介绍：https://github.com/acse-2020/ACSE-1/blob/main/lectures/Lecture04/lecture.ipynb"
   ]
  },
  {
   "cell_type": "markdown",
   "metadata": {},
   "source": [
    "## 二、Dockerfile的写法\n",
    "\n",
    "关于Dockerfile在lecture05有介绍：https://github.com/acse-2020/ACSE-1/blob/main/lectures/Lecture05/lecture.ipynb"
   ]
  },
  {
   "cell_type": "markdown",
   "metadata": {},
   "source": [
    "### 1.COPY"
   ]
  },
  {
   "cell_type": "markdown",
   "metadata": {},
   "source": [
    "COPY命令就是指定哪些文件（例如代码.py、数据.csv）是我们需要的（根目录就是Dockerfile所在的这个文件夹）。\n",
    "\n",
    "COPY的格式：COPY (FROM) (TO)，例如“COPY requirements.txt .”（最后的“.”不要忘了）。这个“.”的意思，我理解为“所有，根目录”，如果一股脑把所有文件照搬到container中去，就用命令“COPY . .”。"
   ]
  },
  {
   "cell_type": "markdown",
   "metadata": {},
   "source": [
    "### 2.概念理解——Image和Container"
   ]
  },
  {
   "cell_type": "markdown",
   "metadata": {},
   "source": [
    "docker build出来的东西叫Image，对于Image使用docker run之后出来的东西就是Container（也就是App）。"
   ]
  },
  {
   "cell_type": "markdown",
   "metadata": {},
   "source": [
    "### 3.RUN和CMD"
   ]
  },
  {
   "cell_type": "markdown",
   "metadata": {},
   "source": [
    "RUN是在build时会运行的命令，一般用来装依赖包，例如“RUN pip install -r requirements.txt”。\n",
    "\n",
    "CMD是run之后Container要去运行的东西，可以用来启动flask，例如“CMD flask run --host=0.0.0.0 --port=80”。"
   ]
  },
  {
   "cell_type": "markdown",
   "metadata": {},
   "source": [
    "### 4.EXPOSE"
   ]
  },
  {
   "cell_type": "markdown",
   "metadata": {},
   "source": [
    "EXPOSE并不是用来发布端口的，对此的官方解释：\n",
    "![EXPOSE](img/EXPOSE.png)\n",
    "\n",
    "具体可以参考：https://www.hxstrive.com/article/651.htm"
   ]
  },
  {
   "cell_type": "markdown",
   "metadata": {},
   "source": [
    "## 三、Flask\n",
    "\n",
    "关于Flask在lecture06有介绍：https://github.com/acse-2020/ACSE-1/blob/main/lectures/Lecture06/lecture.ipynb"
   ]
  },
  {
   "cell_type": "markdown",
   "metadata": {},
   "source": [
    "仔细观察app.py，对于Flask指定监听地址和端口，大佬给出了如下解释，如拨云见日：\n",
    "![Flask](img/Flask.png)\n",
    "*图中链接：https://blog.csdn.net/zwkkkk1/article/details/84064895*\n",
    "\n",
    "python app.py是会运行main函数，而flask run则不会（相当于import）。\n",
    "\n",
    "这样，运行**docker run -it -p5000:80 rainfall:latest**时，会建立本地5000端口与Container的80端口的映射，也就是我的app运行在Container的80端口，宿主机对于Container也是外网（反之亦然），宿主机想访问Container就要从localhost的5000端口去访问（想象这个端口通往外网）。"
   ]
  }
 ],
 "metadata": {
  "kernelspec": {
   "display_name": "Python 3",
   "language": "python",
   "name": "python3"
  },
  "language_info": {
   "codemirror_mode": {
    "name": "ipython",
    "version": 3
   },
   "file_extension": ".py",
   "mimetype": "text/x-python",
   "name": "python",
   "nbconvert_exporter": "python",
   "pygments_lexer": "ipython3",
   "version": "3.8.3"
  }
 },
 "nbformat": 4,
 "nbformat_minor": 4
}
