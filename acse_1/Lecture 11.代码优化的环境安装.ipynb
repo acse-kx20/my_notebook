{
 "cells": [
  {
   "cell_type": "markdown",
   "metadata": {},
   "source": [
    "# 关于Lecture 11.代码优化的环境安装问题"
   ]
  },
  {
   "cell_type": "markdown",
   "metadata": {},
   "source": [
    "若conda安装某些包时，出现说“requests是conda的依赖包，不能被移除”，运行以下命令"
   ]
  },
  {
   "cell_type": "markdown",
   "metadata": {},
   "source": [
    "conda update --force conda\n",
    "\n",
    "注意一定要--force。"
   ]
  },
  {
   "cell_type": "markdown",
   "metadata": {},
   "source": [
    "然后再用：\n",
    "\n",
    "conda install -c anaconda line_profiler\n",
    "\n",
    "conda install -c anaconda memory_profiler\n",
    "\n",
    "来安装本节课需要使用的环境。"
   ]
  }
 ],
 "metadata": {
  "kernelspec": {
   "display_name": "Python 3",
   "language": "python",
   "name": "python3"
  },
  "language_info": {
   "codemirror_mode": {
    "name": "ipython",
    "version": 3
   },
   "file_extension": ".py",
   "mimetype": "text/x-python",
   "name": "python",
   "nbconvert_exporter": "python",
   "pygments_lexer": "ipython3",
   "version": "3.8.3"
  }
 },
 "nbformat": 4,
 "nbformat_minor": 4
}
